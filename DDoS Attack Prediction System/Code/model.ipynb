{
 "cells": [
  {
   "cell_type": "code",
   "execution_count": 1,
   "id": "2ccbd501",
   "metadata": {},
   "outputs": [],
   "source": [
    "import pandas as pd\n"
   ]
  },
  {
   "cell_type": "code",
   "execution_count": 3,
   "id": "a472c9ac",
   "metadata": {},
   "outputs": [],
   "source": [
    "from sklearn.preprocessing import LabelEncoder\n",
    "from sklearn.ensemble import RandomForestClassifier\n",
    "from sklearn.model_selection import train_test_split\n",
    "from sklearn import neighbors\n",
    "from sklearn.metrics import accuracy_score,precision_score,recall_score,f1_score\n",
    "from sklearn.metrics import confusion_matrix\n"
   ]
  },
  {
   "cell_type": "code",
   "execution_count": 4,
   "id": "5f7d1f72",
   "metadata": {},
   "outputs": [],
   "source": [
    "import joblib"
   ]
  },
  {
   "cell_type": "code",
   "execution_count": 5,
   "id": "927e4abd",
   "metadata": {},
   "outputs": [],
   "source": [
    "pd.set_option('display.max_rows', None)\n",
    "pd.set_option('display.max_columns', None)"
   ]
  },
  {
   "cell_type": "code",
   "execution_count": 6,
   "id": "d4d58370",
   "metadata": {},
   "outputs": [],
   "source": [
    "import warnings"
   ]
  },
  {
   "cell_type": "code",
   "execution_count": 7,
   "id": "8f28b429",
   "metadata": {},
   "outputs": [],
   "source": [
    "warnings.filterwarnings(\"ignore\")"
   ]
  },
  {
   "cell_type": "code",
   "execution_count": 8,
   "id": "454fa4ab",
   "metadata": {},
   "outputs": [],
   "source": [
    "df = pd.read_csv(\"ddos_P.csv\")\n"
   ]
  },
  {
   "cell_type": "code",
   "execution_count": 9,
   "id": "11cd9998",
   "metadata": {},
   "outputs": [],
   "source": [
    "X = df[['dur','sbytes','dbytes','sttl','dttl']]"
   ]
  },
  {
   "cell_type": "code",
   "execution_count": 10,
   "id": "e8c26925",
   "metadata": {},
   "outputs": [],
   "source": [
    "encoder = LabelEncoder()\n"
   ]
  },
  {
   "cell_type": "code",
   "execution_count": 11,
   "id": "56932394",
   "metadata": {},
   "outputs": [],
   "source": [
    "y = df[['attack_cat']]"
   ]
  },
  {
   "cell_type": "code",
   "execution_count": 12,
   "id": "72b3a55d",
   "metadata": {},
   "outputs": [],
   "source": [
    "X_train,X_test,y_train,y_test = train_test_split(X,y,test_size=.4)"
   ]
  },
  {
   "cell_type": "code",
   "execution_count": 13,
   "id": "b2fc3f66",
   "metadata": {},
   "outputs": [],
   "source": [
    "model=RandomForestClassifier(n_estimators=5, bootstrap=True, criterion='entropy',max_depth=20,random_state=23)"
   ]
  },
  {
   "cell_type": "code",
   "execution_count": 14,
   "id": "086f8c7e",
   "metadata": {},
   "outputs": [
    {
     "data": {
      "text/plain": [
       "RandomForestClassifier(criterion='entropy', max_depth=20, n_estimators=5,\n",
       "                       random_state=23)"
      ]
     },
     "execution_count": 14,
     "metadata": {},
     "output_type": "execute_result"
    }
   ],
   "source": [
    "model.fit(X_train, y_train)"
   ]
  },
  {
   "cell_type": "code",
   "execution_count": 15,
   "id": "1633183a",
   "metadata": {},
   "outputs": [
    {
     "name": "stdout",
     "output_type": "stream",
     "text": [
      "['Normal' 'Normal' 'DoS' ... 'Normal' 'Normal' 'Normal']\n",
      "98.73448527622293\n",
      "Confusion Matrix: [[ 1483   163]\n",
      " [   45 14745]]\n",
      "Precison : 0.9798080056809162\n",
      "Recall : 0.9489647285570281\n",
      "F1 Score : 0.9637318550959728\n"
     ]
    }
   ],
   "source": [
    "joblib.dump(model, 'model.pkl')\n",
    "\n",
    "\n",
    "#prediction\n",
    "predictions=model.predict(X_test)\n",
    "print(predictions)\n",
    "print(accuracy_score(y_test,predictions)*100)\n",
    "print(\"Confusion Matrix:\",confusion_matrix(y_test,predictions))\n",
    "print(\"Precison :\",precision_score(y_test,predictions,average='macro'))\n",
    "print(\"Recall :\",recall_score(y_test,predictions,average='macro'))\n",
    "print(\"F1 Score :\",f1_score(y_test,predictions,average='macro'))\n",
    "\n"
   ]
  },
  {
   "cell_type": "code",
   "execution_count": null,
   "id": "833899eb",
   "metadata": {},
   "outputs": [],
   "source": []
  }
 ],
 "metadata": {
  "kernelspec": {
   "display_name": "Python 3 (ipykernel)",
   "language": "python",
   "name": "python3"
  },
  "language_info": {
   "codemirror_mode": {
    "name": "ipython",
    "version": 3
   },
   "file_extension": ".py",
   "mimetype": "text/x-python",
   "name": "python",
   "nbconvert_exporter": "python",
   "pygments_lexer": "ipython3",
   "version": "3.9.7"
  }
 },
 "nbformat": 4,
 "nbformat_minor": 5
}
